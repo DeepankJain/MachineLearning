{
  "nbformat": 4,
  "nbformat_minor": 0,
  "metadata": {
    "colab": {
      "name": "Filtering and Sorting Data.ipynb",
      "version": "0.3.2",
      "provenance": [],
      "include_colab_link": true
    },
    "kernelspec": {
      "name": "python3",
      "display_name": "Python 3"
    }
  },
  "cells": [
    {
      "cell_type": "markdown",
      "metadata": {
        "id": "view-in-github",
        "colab_type": "text"
      },
      "source": [
        "<a href=\"https://colab.research.google.com/github/DeepankJain/MachineLearning/blob/master/Chipotle-Data-Analysis/Filtering_and_Sorting_Data.ipynb\" target=\"_parent\"><img src=\"https://colab.research.google.com/assets/colab-badge.svg\" alt=\"Open In Colab\"/></a>"
      ]
    },
    {
      "metadata": {
        "id": "3j6UpsYcYgIJ",
        "colab_type": "code",
        "colab": {}
      },
      "cell_type": "code",
      "source": [
        "#importing the necessary libraries\n",
        "import numpy as np\n",
        "import pandas as pd"
      ],
      "execution_count": 0,
      "outputs": []
    },
    {
      "metadata": {
        "id": "zwHc7IgZYr-x",
        "colab_type": "code",
        "outputId": "6a59c033-dff9-4a9b-ba1c-3913d67f8f76",
        "colab": {
          "base_uri": "https://localhost:8080/",
          "height": 238
        }
      },
      "cell_type": "code",
      "source": [
        "#loading the dataset\n",
        "url = 'https://raw.githubusercontent.com/justmarkham/DAT8/master/data/chipotle.tsv'\n",
        "df = pd.read_csv(url, sep = '\\t')\n",
        "print(df.head())"
      ],
      "execution_count": 0,
      "outputs": [
        {
          "output_type": "stream",
          "text": [
            "   order_id  quantity                              item_name  \\\n",
            "0         1         1           Chips and Fresh Tomato Salsa   \n",
            "1         1         1                                   Izze   \n",
            "2         1         1                       Nantucket Nectar   \n",
            "3         1         1  Chips and Tomatillo-Green Chili Salsa   \n",
            "4         2         2                           Chicken Bowl   \n",
            "\n",
            "                                  choice_description item_price  \n",
            "0                                                NaN     $2.39   \n",
            "1                                       [Clementine]     $3.39   \n",
            "2                                            [Apple]     $3.39   \n",
            "3                                                NaN     $2.39   \n",
            "4  [Tomatillo-Red Chili Salsa (Hot), [Black Beans...    $16.98   \n"
          ],
          "name": "stdout"
        }
      ]
    },
    {
      "metadata": {
        "id": "2e2y-3B4Y7cz",
        "colab_type": "code",
        "outputId": "5e35c716-9649-4da0-9ae5-ae3f0605a644",
        "colab": {
          "base_uri": "https://localhost:8080/",
          "height": 238
        }
      },
      "cell_type": "code",
      "source": [
        "#converting item_price to float\n",
        "convertFloat = lambda x : float(x[1:-1])\n",
        "df['item_price'] = df['item_price'].apply(convertFloat)\n",
        "print(df.head())"
      ],
      "execution_count": 0,
      "outputs": [
        {
          "output_type": "stream",
          "text": [
            "   order_id  quantity                              item_name  \\\n",
            "0         1         1           Chips and Fresh Tomato Salsa   \n",
            "1         1         1                                   Izze   \n",
            "2         1         1                       Nantucket Nectar   \n",
            "3         1         1  Chips and Tomatillo-Green Chili Salsa   \n",
            "4         2         2                           Chicken Bowl   \n",
            "\n",
            "                                  choice_description  item_price  \n",
            "0                                                NaN        2.39  \n",
            "1                                       [Clementine]        3.39  \n",
            "2                                            [Apple]        3.39  \n",
            "3                                                NaN        2.39  \n",
            "4  [Tomatillo-Red Chili Salsa (Hot), [Black Beans...       16.98  \n"
          ],
          "name": "stdout"
        }
      ]
    },
    {
      "metadata": {
        "id": "CN_FUKdpZWL-",
        "colab_type": "code",
        "outputId": "05b59fc9-f772-4eed-d23e-0e4c80268c89",
        "colab": {
          "base_uri": "https://localhost:8080/",
          "height": 1207
        }
      },
      "cell_type": "code",
      "source": [
        "#What is the price of each item?\n",
        "#print a dataframe with only two columns: item_name and item_price\n",
        "df_filtered = df.drop_duplicates(['item_name', 'quantity'])\n",
        "df_filtered['price_per_unit'] = df['item_price']/df['quantity']\n",
        "catalog = df_filtered[['item_name', 'price_per_unit']]\n",
        "print(catalog.sort_values(by = 'price_per_unit', ascending = False))"
      ],
      "execution_count": 0,
      "outputs": [
        {
          "output_type": "stream",
          "text": [
            "                                  item_name  price_per_unit\n",
            "606                        Steak Salad Bowl           11.89\n",
            "1132                    Carnitas Salad Bowl           11.89\n",
            "1229                    Barbacoa Salad Bowl           11.89\n",
            "281                        Steak Salad Bowl           11.89\n",
            "168                   Barbacoa Crispy Tacos           11.75\n",
            "39                            Barbacoa Bowl           11.75\n",
            "7                             Steak Burrito           11.75\n",
            "3480                          Carnitas Bowl           11.75\n",
            "506                           Carnitas Bowl           11.75\n",
            "135                      Chicken Salad Bowl           11.25\n",
            "62                              Veggie Bowl           11.25\n",
            "57                           Veggie Burrito           11.25\n",
            "186                       Veggie Salad Bowl           11.25\n",
            "3601                         Veggie Burrito           11.25\n",
            "738                       Veggie Soft Tacos           11.25\n",
            "250                           Chicken Salad           10.98\n",
            "5                              Chicken Bowl           10.98\n",
            "409                            Chicken Bowl           10.98\n",
            "1255                          Steak Burrito            9.25\n",
            "554                   Carnitas Crispy Tacos            9.25\n",
            "8                          Steak Soft Tacos            9.25\n",
            "237                     Carnitas Soft Tacos            9.25\n",
            "1903                  Barbacoa Crispy Tacos            9.25\n",
            "2581                       Carnitas Burrito            9.25\n",
            "56                      Barbacoa Soft Tacos            9.25\n",
            "4354                       Steak Soft Tacos            9.25\n",
            "92                       Steak Crispy Tacos            9.25\n",
            "664                             Steak Salad            8.99\n",
            "910                              Steak Bowl            8.99\n",
            "148                           Steak Burrito            8.99\n",
            "...                                     ...             ...\n",
            "111     Chips and Tomatillo Red Chili Salsa            2.95\n",
            "1555     Chips and Roasted Chili Corn Salsa            2.95\n",
            "1257           Chips and Fresh Tomato Salsa            2.95\n",
            "2656  Chips and Tomatillo-Green Chili Salsa            2.39\n",
            "3     Chips and Tomatillo-Green Chili Salsa            2.39\n",
            "2972    Chips and Tomatillo-Red Chili Salsa            2.39\n",
            "191      Chips and Roasted Chili-Corn Salsa            2.39\n",
            "0              Chips and Fresh Tomato Salsa            2.39\n",
            "300     Chips and Tomatillo-Red Chili Salsa            2.39\n",
            "2550    Chips and Tomatillo-Red Chili Salsa            2.39\n",
            "223                                   Chips            2.15\n",
            "2936                                  Chips            2.15\n",
            "40                                    Chips            2.15\n",
            "2944                          Side of Chips            1.69\n",
            "6                             Side of Chips            1.69\n",
            "3887                          Side of Chips            1.69\n",
            "540                           Bottled Water            1.50\n",
            "4152                          Bottled Water            1.50\n",
            "3599                          Bottled Water            1.50\n",
            "1425                          Bottled Water            1.50\n",
            "2441                          Bottled Water            1.50\n",
            "689                       Canned Soft Drink            1.25\n",
            "263                       Canned Soft Drink            1.25\n",
            "492                       Canned Soft Drink            1.25\n",
            "3973                      Canned Soft Drink            1.25\n",
            "28                              Canned Soda            1.09\n",
            "18                              Canned Soda            1.09\n",
            "34                            Bottled Water            1.09\n",
            "2235                            Canned Soda            1.09\n",
            "818                           Bottled Water            1.09\n",
            "\n",
            "[103 rows x 2 columns]\n"
          ],
          "name": "stdout"
        },
        {
          "output_type": "stream",
          "text": [
            "/usr/local/lib/python3.6/dist-packages/ipykernel_launcher.py:2: SettingWithCopyWarning: \n",
            "A value is trying to be set on a copy of a slice from a DataFrame.\n",
            "Try using .loc[row_indexer,col_indexer] = value instead\n",
            "\n",
            "See the caveats in the documentation: http://pandas.pydata.org/pandas-docs/stable/indexing.html#indexing-view-versus-copy\n",
            "  \n"
          ],
          "name": "stderr"
        }
      ]
    },
    {
      "metadata": {
        "id": "syOzbwrGaZir",
        "colab_type": "code",
        "outputId": "62889f12-3390-4cbe-f903-2624d1a6809b",
        "colab": {
          "base_uri": "https://localhost:8080/",
          "height": 1071
        }
      },
      "cell_type": "code",
      "source": [
        "#sort by the name of the item\n",
        "df_filtered['item_name'].sort_values()"
      ],
      "execution_count": 0,
      "outputs": [
        {
          "output_type": "execute_result",
          "data": {
            "text/plain": [
              "298         6 Pack Soft Drink\n",
              "3389        6 Pack Soft Drink\n",
              "39              Barbacoa Bowl\n",
              "21           Barbacoa Burrito\n",
              "1903    Barbacoa Crispy Tacos\n",
              "168     Barbacoa Crispy Tacos\n",
              "1229      Barbacoa Salad Bowl\n",
              "56        Barbacoa Soft Tacos\n",
              "2441            Bottled Water\n",
              "4152            Bottled Water\n",
              "818             Bottled Water\n",
              "540             Bottled Water\n",
              "1425            Bottled Water\n",
              "3599            Bottled Water\n",
              "34              Bottled Water\n",
              "445                      Bowl\n",
              "673                      Bowl\n",
              "510                   Burrito\n",
              "18                Canned Soda\n",
              "2235              Canned Soda\n",
              "28                Canned Soda\n",
              "263         Canned Soft Drink\n",
              "3973        Canned Soft Drink\n",
              "492         Canned Soft Drink\n",
              "689         Canned Soft Drink\n",
              "33              Carnitas Bowl\n",
              "3480            Carnitas Bowl\n",
              "506             Carnitas Bowl\n",
              "2581         Carnitas Burrito\n",
              "27           Carnitas Burrito\n",
              "                ...          \n",
              "520              Crispy Tacos\n",
              "1                        Izze\n",
              "2            Nantucket Nectar\n",
              "601          Nantucket Nectar\n",
              "1414                    Salad\n",
              "3887            Side of Chips\n",
              "6               Side of Chips\n",
              "2944            Side of Chips\n",
              "3334               Steak Bowl\n",
              "910                Steak Bowl\n",
              "54                 Steak Bowl\n",
              "1255            Steak Burrito\n",
              "148             Steak Burrito\n",
              "7               Steak Burrito\n",
              "92         Steak Crispy Tacos\n",
              "2874       Steak Crispy Tacos\n",
              "664               Steak Salad\n",
              "606          Steak Salad Bowl\n",
              "281          Steak Salad Bowl\n",
              "8            Steak Soft Tacos\n",
              "4354         Steak Soft Tacos\n",
              "62                Veggie Bowl\n",
              "846               Veggie Bowl\n",
              "57             Veggie Burrito\n",
              "3601           Veggie Burrito\n",
              "1653      Veggie Crispy Tacos\n",
              "1694             Veggie Salad\n",
              "186         Veggie Salad Bowl\n",
              "3889        Veggie Soft Tacos\n",
              "738         Veggie Soft Tacos\n",
              "Name: item_name, Length: 103, dtype: object"
            ]
          },
          "metadata": {
            "tags": []
          },
          "execution_count": 6
        }
      ]
    },
    {
      "metadata": {
        "id": "ET7Jhu0ccWz0",
        "colab_type": "code",
        "outputId": "c53cded0-b5a1-4d72-9549-2d8de73e60c9",
        "colab": {
          "base_uri": "https://localhost:8080/",
          "height": 80
        }
      },
      "cell_type": "code",
      "source": [
        "#what was the quantity of the most expensive item?\n",
        "df_filtered.sort_values(by = \"price_per_unit\", ascending = False).head(1)"
      ],
      "execution_count": 0,
      "outputs": [
        {
          "output_type": "execute_result",
          "data": {
            "text/html": [
              "<div>\n",
              "<style scoped>\n",
              "    .dataframe tbody tr th:only-of-type {\n",
              "        vertical-align: middle;\n",
              "    }\n",
              "\n",
              "    .dataframe tbody tr th {\n",
              "        vertical-align: top;\n",
              "    }\n",
              "\n",
              "    .dataframe thead th {\n",
              "        text-align: right;\n",
              "    }\n",
              "</style>\n",
              "<table border=\"1\" class=\"dataframe\">\n",
              "  <thead>\n",
              "    <tr style=\"text-align: right;\">\n",
              "      <th></th>\n",
              "      <th>order_id</th>\n",
              "      <th>quantity</th>\n",
              "      <th>item_name</th>\n",
              "      <th>choice_description</th>\n",
              "      <th>item_price</th>\n",
              "      <th>price_per_unit</th>\n",
              "    </tr>\n",
              "  </thead>\n",
              "  <tbody>\n",
              "    <tr>\n",
              "      <th>606</th>\n",
              "      <td>250</td>\n",
              "      <td>1</td>\n",
              "      <td>Steak Salad Bowl</td>\n",
              "      <td>[Fresh Tomato Salsa, [Pinto Beans, Cheese, Gua...</td>\n",
              "      <td>11.89</td>\n",
              "      <td>11.89</td>\n",
              "    </tr>\n",
              "  </tbody>\n",
              "</table>\n",
              "</div>"
            ],
            "text/plain": [
              "     order_id  quantity         item_name  \\\n",
              "606       250         1  Steak Salad Bowl   \n",
              "\n",
              "                                    choice_description  item_price  \\\n",
              "606  [Fresh Tomato Salsa, [Pinto Beans, Cheese, Gua...       11.89   \n",
              "\n",
              "     price_per_unit  \n",
              "606           11.89  "
            ]
          },
          "metadata": {
            "tags": []
          },
          "execution_count": 7
        }
      ]
    },
    {
      "metadata": {
        "id": "WWscNP2ud6Oc",
        "colab_type": "code",
        "outputId": "ad7b663f-cba9-4e5a-c72e-49c0e9138744",
        "colab": {
          "base_uri": "https://localhost:8080/",
          "height": 34
        }
      },
      "cell_type": "code",
      "source": [
        "#How many times was Veggie Salad Bowl ordered?\n",
        "veggie_salad = df[df['item_name'] == \"Veggie Salad Bowl\"]\n",
        "print(len(veggie_salad))"
      ],
      "execution_count": 0,
      "outputs": [
        {
          "output_type": "stream",
          "text": [
            "18\n"
          ],
          "name": "stdout"
        }
      ]
    },
    {
      "metadata": {
        "id": "3AaYqiMzeLAY",
        "colab_type": "code",
        "outputId": "0901f403-2ff2-4585-9df2-6e0f4f1700bd",
        "colab": {
          "base_uri": "https://localhost:8080/",
          "height": 34
        }
      },
      "cell_type": "code",
      "source": [
        "#How many times people ordered more than one CannedSoda?\n",
        "cannedSoda = df[(df['item_name'] == \"Canned Soda\") & (df['quantity'] > 1)]\n",
        "print(len(cannedSoda))"
      ],
      "execution_count": 0,
      "outputs": [
        {
          "output_type": "stream",
          "text": [
            "20\n"
          ],
          "name": "stdout"
        }
      ]
    },
    {
      "metadata": {
        "id": "ifZo7sKGetkL",
        "colab_type": "code",
        "colab": {}
      },
      "cell_type": "code",
      "source": [
        ""
      ],
      "execution_count": 0,
      "outputs": []
    }
  ]
}