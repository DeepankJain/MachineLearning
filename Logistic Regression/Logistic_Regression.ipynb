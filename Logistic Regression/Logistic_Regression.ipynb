{
  "nbformat": 4,
  "nbformat_minor": 0,
  "metadata": {
    "colab": {
      "name": "Logistic Regression.ipynb",
      "version": "0.3.2",
      "provenance": [],
      "include_colab_link": true
    },
    "kernelspec": {
      "name": "python3",
      "display_name": "Python 3"
    }
  },
  "cells": [
    {
      "cell_type": "markdown",
      "metadata": {
        "id": "view-in-github",
        "colab_type": "text"
      },
      "source": [
        "<a href=\"https://colab.research.google.com/github/DeepankJain/MachineLearning/blob/master/Logistic%20Regression/Logistic_Regression.ipynb\" target=\"_parent\"><img src=\"https://colab.research.google.com/assets/colab-badge.svg\" alt=\"Open In Colab\"/></a>"
      ]
    },
    {
      "metadata": {
        "id": "BK2_pSGf35X9",
        "colab_type": "code",
        "colab": {}
      },
      "cell_type": "code",
      "source": [
        "#importing the libraries\n",
        "import numpy as np\n",
        "import pandas as pd\n",
        "import matplotlib.pyplot as plt\n",
        "import seaborn as sns\n",
        "%matplotlib inline"
      ],
      "execution_count": 0,
      "outputs": []
    },
    {
      "metadata": {
        "id": "mgX-eg4E4R-1",
        "colab_type": "code",
        "colab": {}
      },
      "cell_type": "code",
      "source": [
        "#loading the dataset\n",
        "from sklearn.datasets import load_digits\n",
        "digits = load_digits()"
      ],
      "execution_count": 0,
      "outputs": []
    },
    {
      "metadata": {
        "id": "uv8kyEsQ5MEt",
        "colab_type": "code",
        "colab": {
          "base_uri": "https://localhost:8080/",
          "height": 51
        },
        "outputId": "39ac3c09-aff3-425f-bbed-2baeee51a587"
      },
      "cell_type": "code",
      "source": [
        "#Getting to know your data\n",
        "print(digits.data.shape)\n",
        "print(digits.target.shape)"
      ],
      "execution_count": 3,
      "outputs": [
        {
          "output_type": "stream",
          "text": [
            "(1797, 64)\n",
            "(1797,)\n"
          ],
          "name": "stdout"
        }
      ]
    },
    {
      "metadata": {
        "id": "C9gro9yQeVdm",
        "colab_type": "code",
        "colab": {
          "base_uri": "https://localhost:8080/",
          "height": 244
        },
        "outputId": "9148a2d6-c556-46af-d5dd-1b9b4936d397"
      },
      "cell_type": "code",
      "source": [
        "plt.figure(figsize = (20,4))\n",
        "for index, (image, label) in enumerate(zip(digits.data[0:5], digits.target[0:5])):\n",
        "  plt.subplot(1,5,index+1)\n",
        "  plt.imshow(np.reshape(image,(8,8)), cmap = plt.cm.gray)\n"
      ],
      "execution_count": 6,
      "outputs": [
        {
          "output_type": "display_data",
          "data": {
            "image/png": "[encoded data removed]",
            "text/plain": [
              "<Figure size 1440x288 with 5 Axes>"
            ]
          },
          "metadata": {
            "tags": []
          }
        }
      ]
    },
    {
      "metadata": {
        "id": "7NNNmi4NfuiD",
        "colab_type": "code",
        "colab": {}
      },
      "cell_type": "code",
      "source": [
        "#Splitting data into training and test sets\n",
        "from sklearn.model_selection import train_test_split as tts\n",
        "train_x, test_x, train_y, test_y = tts(digits.data, digits.target, test_size = 0.2, random_state = 0)"
      ],
      "execution_count": 0,
      "outputs": []
    },
    {
      "metadata": {
        "id": "uadgQAM6ktDs",
        "colab_type": "code",
        "colab": {
          "base_uri": "https://localhost:8080/",
          "height": 173
        },
        "outputId": "e0445f2a-2a0a-4700-c046-66c2f191a3aa"
      },
      "cell_type": "code",
      "source": [
        "#Model fitting\n",
        "from sklearn.linear_model import LogisticRegression\n",
        "model = LogisticRegression()\n",
        "model.fit(train_x, train_y)"
      ],
      "execution_count": 8,
      "outputs": [
        {
          "output_type": "stream",
          "text": [
            "/usr/local/lib/python3.6/dist-packages/sklearn/linear_model/logistic.py:433: FutureWarning: Default solver will be changed to 'lbfgs' in 0.22. Specify a solver to silence this warning.\n",
            "  FutureWarning)\n",
            "/usr/local/lib/python3.6/dist-packages/sklearn/linear_model/logistic.py:460: FutureWarning: Default multi_class will be changed to 'auto' in 0.22. Specify the multi_class option to silence this warning.\n",
            "  \"this warning.\", FutureWarning)\n"
          ],
          "name": "stderr"
        },
        {
          "output_type": "execute_result",
          "data": {
            "text/plain": [
              "LogisticRegression(C=1.0, class_weight=None, dual=False, fit_intercept=True,\n",
              "          intercept_scaling=1, max_iter=100, multi_class='warn',\n",
              "          n_jobs=None, penalty='l2', random_state=None, solver='warn',\n",
              "          tol=0.0001, verbose=0, warm_start=False)"
            ]
          },
          "metadata": {
            "tags": []
          },
          "execution_count": 8
        }
      ]
    },
    {
      "metadata": {
        "id": "77o3Tw12lHh9",
        "colab_type": "code",
        "colab": {}
      },
      "cell_type": "code",
      "source": [
        "#Prediction\n",
        "test_pred = model.predict(test_x)"
      ],
      "execution_count": 0,
      "outputs": []
    },
    {
      "metadata": {
        "id": "W6khpbwElaJ3",
        "colab_type": "code",
        "colab": {
          "base_uri": "https://localhost:8080/",
          "height": 1105
        },
        "outputId": "facf9415-2051-4e75-aa8e-d6c740b32220"
      },
      "cell_type": "code",
      "source": [
        "result = pd.DataFrame({'Actual':test_y,\n",
        "              'Predicted':test_pred})\n",
        "print(result)"
      ],
      "execution_count": 10,
      "outputs": [
        {
          "output_type": "stream",
          "text": [
            "     Actual  Predicted\n",
            "0         2          2\n",
            "1         8          8\n",
            "2         2          2\n",
            "3         6          6\n",
            "4         6          6\n",
            "5         7          7\n",
            "6         1          1\n",
            "7         9          9\n",
            "8         8          8\n",
            "9         5          5\n",
            "10        2          2\n",
            "11        8          8\n",
            "12        6          6\n",
            "13        6          6\n",
            "14        6          6\n",
            "15        6          6\n",
            "16        1          1\n",
            "17        0          0\n",
            "18        5          5\n",
            "19        8          8\n",
            "20        8          8\n",
            "21        7          7\n",
            "22        8          8\n",
            "23        4          4\n",
            "24        7          7\n",
            "25        5          5\n",
            "26        4          4\n",
            "27        9          9\n",
            "28        2          2\n",
            "29        9          9\n",
            "..      ...        ...\n",
            "330       2          2\n",
            "331       1          8\n",
            "332       9          9\n",
            "333       5          5\n",
            "334       6          6\n",
            "335       8          2\n",
            "336       2          2\n",
            "337       7          7\n",
            "338       2          2\n",
            "339       1          1\n",
            "340       5          5\n",
            "341       1          1\n",
            "342       6          6\n",
            "343       4          4\n",
            "344       5          5\n",
            "345       0          0\n",
            "346       9          9\n",
            "347       4          4\n",
            "348       1          1\n",
            "349       1          1\n",
            "350       7          7\n",
            "351       0          0\n",
            "352       8          8\n",
            "353       9          9\n",
            "354       0          0\n",
            "355       5          5\n",
            "356       4          4\n",
            "357       3          3\n",
            "358       8          8\n",
            "359       8          8\n",
            "\n",
            "[360 rows x 2 columns]\n"
          ],
          "name": "stdout"
        }
      ]
    },
    {
      "metadata": {
        "id": "Xi8X4ujZlp8H",
        "colab_type": "code",
        "colab": {
          "base_uri": "https://localhost:8080/",
          "height": 34
        },
        "outputId": "831ef250-d55a-4564-fbbe-7e67492b3e91"
      },
      "cell_type": "code",
      "source": [
        "#Computing r2_score\n",
        "from sklearn.metrics import r2_score\n",
        "print(r2_score(test_y, test_pred)*100)"
      ],
      "execution_count": 16,
      "outputs": [
        {
          "output_type": "stream",
          "text": [
            "84.5127316766568\n"
          ],
          "name": "stdout"
        }
      ]
    },
    {
      "metadata": {
        "id": "yFBQl_uomJAI",
        "colab_type": "code",
        "colab": {}
      },
      "cell_type": "code",
      "source": [
        ""
      ],
      "execution_count": 0,
      "outputs": []
    }
  ]
}